{
  "nbformat": 4,
  "nbformat_minor": 0,
  "metadata": {
    "colab": {
      "provenance": [],
      "mount_file_id": "1lcwvly81E7FSGs-IynYk0H_s_MwYgbzv",
      "authorship_tag": "ABX9TyMM7n0NS4olFOFCp16kuxnF"
    },
    "kernelspec": {
      "name": "python3",
      "display_name": "Python 3"
    },
    "language_info": {
      "name": "python"
    }
  },
  "cells": [
    {
      "cell_type": "code",
      "execution_count": 1,
      "metadata": {
        "id": "V-n480VopD-E"
      },
      "outputs": [],
      "source": [
        "!pip install -q gTTS"
      ]
    },
    {
      "cell_type": "code",
      "source": [
        "from gtts import gTTS\n",
        "dizer_texto = \"Este texto está dito!\"\n",
        "language = 'pt'\n",
        "gtts_object = gTTS(text = dizer_texto,\n",
        "                   lang = language,\n",
        "                   slow = False)\n",
        "gtts_object.save(\"/content/qtss1.wsv\")"
      ],
      "metadata": {
        "id": "3g5fxd28pWwO"
      },
      "execution_count": 12,
      "outputs": []
    },
    {
      "cell_type": "code",
      "source": [
        "from IPython.display import Audio"
      ],
      "metadata": {
        "id": "LppnUedyqNUE"
      },
      "execution_count": 10,
      "outputs": []
    },
    {
      "cell_type": "code",
      "source": [
        "Audio(\"/content/qtss1.wsv\")"
      ],
      "metadata": {
        "colab": {
          "base_uri": "https://localhost:8080/",
          "height": 75
        },
        "id": "5PJFBoiAqUV8",
        "outputId": "8882cce2-cbd6-4a0d-833a-55079ed81e3c"
      },
      "execution_count": 11,
      "outputs": [
        {
          "output_type": "execute_result",
          "data": {
            "text/plain": [
              "<IPython.lib.display.Audio object>"
            ],
            "text/html": [
              "\n",
              "                <audio  controls=\"controls\" >\n",
              "                    <source src=\"data:None;base64,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\" type=\"None\" />\n",
              "                    Your browser does not support the audio element.\n",
              "                </audio>\n",
              "              "
            ]
          },
          "metadata": {},
          "execution_count": 11
        }
      ]
    },
    {
      "cell_type": "code",
      "source": [],
      "metadata": {
        "id": "504Y5asmqYrD"
      },
      "execution_count": 4,
      "outputs": []
    },
    {
      "cell_type": "code",
      "source": [],
      "metadata": {
        "id": "jglPGQmHpXmt"
      },
      "execution_count": 4,
      "outputs": []
    }
  ]
}